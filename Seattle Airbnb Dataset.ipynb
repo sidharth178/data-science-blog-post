{
 "cells": [
  {
   "cell_type": "code",
   "execution_count": 2,
   "metadata": {},
   "outputs": [],
   "source": [
    "import numpy as np\n",
    "import pandas as pd\n",
    "import matplotlib.pyplot as plt\n",
    "from sklearn.linear_model import LinearRegression\n",
    "from sklearn.model_selection import train_test_split\n",
    "from sklearn.metrics import r2_score, mean_squared_error\n",
    "import seaborn as sns\n",
    "from collections import defaultdict\n",
    "from sklearn.feature_selection import SelectKBest\n",
    "from sklearn.feature_selection import f_regression\n",
    "import math\n",
    "%matplotlib inline\n",
    "\n",
    "df_lis = pd.read_csv('listings.csv')"
   ]
  },
  {
   "cell_type": "markdown",
   "metadata": {},
   "source": [
    "First I would like to know about the dimentions of each dataset."
   ]
  },
  {
   "cell_type": "code",
   "execution_count": 9,
   "metadata": {
    "scrolled": true
   },
   "outputs": [
    {
     "name": "stdout",
     "output_type": "stream",
     "text": [
      "(3818, 92)\n"
     ]
    }
   ],
   "source": [
    "print(df_lis.shape)"
   ]
  },
  {
   "cell_type": "markdown",
   "metadata": {},
   "source": [
    "The listings show each house's informations so I would like to know more about this dataset, starting with the column names and data types of each house."
   ]
  },
  {
   "cell_type": "code",
   "execution_count": 10,
   "metadata": {},
   "outputs": [
    {
     "data": {
      "text/plain": [
       "object     62\n",
       "float64    17\n",
       "int64      13\n",
       "dtype: int64"
      ]
     },
     "execution_count": 10,
     "metadata": {},
     "output_type": "execute_result"
    }
   ],
   "source": [
    "df_lis.dtypes.value_counts()"
   ]
  },
  {
   "cell_type": "code",
   "execution_count": 11,
   "metadata": {
    "scrolled": true
   },
   "outputs": [
    {
     "data": {
      "text/plain": [
       "host_listings_count            float64\n",
       "host_total_listings_count      float64\n",
       "latitude                       float64\n",
       "longitude                      float64\n",
       "bathrooms                      float64\n",
       "bedrooms                       float64\n",
       "beds                           float64\n",
       "square_feet                    float64\n",
       "review_scores_rating           float64\n",
       "review_scores_accuracy         float64\n",
       "review_scores_cleanliness      float64\n",
       "review_scores_checkin          float64\n",
       "review_scores_communication    float64\n",
       "review_scores_location         float64\n",
       "review_scores_value            float64\n",
       "license                        float64\n",
       "reviews_per_month              float64\n",
       "dtype: object"
      ]
     },
     "execution_count": 11,
     "metadata": {},
     "output_type": "execute_result"
    }
   ],
   "source": [
    "df_lis.dtypes[df_lis.dtypes=='float64']"
   ]
  },
  {
   "cell_type": "code",
   "execution_count": 12,
   "metadata": {},
   "outputs": [
    {
     "data": {
      "text/plain": [
       "id                                int64\n",
       "scrape_id                         int64\n",
       "host_id                           int64\n",
       "accommodates                      int64\n",
       "guests_included                   int64\n",
       "minimum_nights                    int64\n",
       "maximum_nights                    int64\n",
       "availability_30                   int64\n",
       "availability_60                   int64\n",
       "availability_90                   int64\n",
       "availability_365                  int64\n",
       "number_of_reviews                 int64\n",
       "calculated_host_listings_count    int64\n",
       "dtype: object"
      ]
     },
     "execution_count": 12,
     "metadata": {},
     "output_type": "execute_result"
    }
   ],
   "source": [
    "df_lis.dtypes[df_lis.dtypes=='int64']"
   ]
  },
  {
   "cell_type": "code",
   "execution_count": 14,
   "metadata": {},
   "outputs": [
    {
     "data": {
      "text/plain": [
       "listing_url                         object\n",
       "last_scraped                        object\n",
       "name                                object\n",
       "summary                             object\n",
       "space                               object\n",
       "description                         object\n",
       "experiences_offered                 object\n",
       "neighborhood_overview               object\n",
       "notes                               object\n",
       "transit                             object\n",
       "thumbnail_url                       object\n",
       "medium_url                          object\n",
       "picture_url                         object\n",
       "xl_picture_url                      object\n",
       "host_url                            object\n",
       "host_name                           object\n",
       "host_since                          object\n",
       "host_location                       object\n",
       "host_about                          object\n",
       "host_response_time                  object\n",
       "host_response_rate                  object\n",
       "host_acceptance_rate                object\n",
       "host_is_superhost                   object\n",
       "host_thumbnail_url                  object\n",
       "host_picture_url                    object\n",
       "host_neighbourhood                  object\n",
       "host_verifications                  object\n",
       "host_has_profile_pic                object\n",
       "host_identity_verified              object\n",
       "street                              object\n",
       "neighbourhood                       object\n",
       "neighbourhood_cleansed              object\n",
       "neighbourhood_group_cleansed        object\n",
       "city                                object\n",
       "state                               object\n",
       "zipcode                             object\n",
       "market                              object\n",
       "smart_location                      object\n",
       "country_code                        object\n",
       "country                             object\n",
       "is_location_exact                   object\n",
       "property_type                       object\n",
       "room_type                           object\n",
       "bed_type                            object\n",
       "amenities                           object\n",
       "price                               object\n",
       "weekly_price                        object\n",
       "monthly_price                       object\n",
       "security_deposit                    object\n",
       "cleaning_fee                        object\n",
       "extra_people                        object\n",
       "calendar_updated                    object\n",
       "has_availability                    object\n",
       "calendar_last_scraped               object\n",
       "first_review                        object\n",
       "last_review                         object\n",
       "requires_license                    object\n",
       "jurisdiction_names                  object\n",
       "instant_bookable                    object\n",
       "cancellation_policy                 object\n",
       "require_guest_profile_picture       object\n",
       "require_guest_phone_verification    object\n",
       "dtype: object"
      ]
     },
     "execution_count": 14,
     "metadata": {},
     "output_type": "execute_result"
    }
   ],
   "source": [
    "pd.set_option('display.max_rows', 92)\n",
    "df_lis.dtypes[df_lis.dtypes=='object']"
   ]
  },
  {
   "cell_type": "markdown",
   "metadata": {},
   "source": [
    "There are many columns that are considered as object, yet some of they should be treated as integer or float (especially those price columns.) This is a type change problem that I will handle later. For now I would like to know about the number missing values and number of unique inputs in each column."
   ]
  },
  {
   "cell_type": "code",
   "execution_count": 15,
   "metadata": {},
   "outputs": [
    {
     "data": {
      "text/plain": [
       "license                             3818\n",
       "square_feet                         3721\n",
       "monthly_price                       2301\n",
       "security_deposit                    1952\n",
       "weekly_price                        1809\n",
       "notes                               1606\n",
       "neighborhood_overview               1032\n",
       "cleaning_fee                        1030\n",
       "transit                              934\n",
       "host_about                           859\n",
       "host_acceptance_rate                 773\n",
       "review_scores_accuracy               658\n",
       "review_scores_checkin                658\n",
       "review_scores_value                  656\n",
       "review_scores_location               655\n",
       "review_scores_cleanliness            653\n",
       "review_scores_communication          651\n",
       "review_scores_rating                 647\n",
       "reviews_per_month                    627\n",
       "first_review                         627\n",
       "last_review                          627\n",
       "space                                569\n",
       "host_response_time                   523\n",
       "host_response_rate                   523\n",
       "neighbourhood                        416\n",
       "xl_picture_url                       320\n",
       "thumbnail_url                        320\n",
       "medium_url                           320\n",
       "host_neighbourhood                   300\n",
       "summary                              177\n",
       "bathrooms                             16\n",
       "host_location                          8\n",
       "zipcode                                7\n",
       "bedrooms                               6\n",
       "host_identity_verified                 2\n",
       "host_has_profile_pic                   2\n",
       "host_picture_url                       2\n",
       "host_since                             2\n",
       "host_total_listings_count              2\n",
       "host_listings_count                    2\n",
       "host_thumbnail_url                     2\n",
       "host_name                              2\n",
       "host_is_superhost                      2\n",
       "beds                                   1\n",
       "property_type                          1\n",
       "host_verifications                     0\n",
       "host_url                               0\n",
       "host_id                                0\n",
       "picture_url                            0\n",
       "experiences_offered                    0\n",
       "description                            0\n",
       "name                                   0\n",
       "last_scraped                           0\n",
       "scrape_id                              0\n",
       "listing_url                            0\n",
       "street                                 0\n",
       "latitude                               0\n",
       "neighbourhood_cleansed                 0\n",
       "calendar_last_scraped                  0\n",
       "calendar_updated                       0\n",
       "has_availability                       0\n",
       "availability_30                        0\n",
       "availability_60                        0\n",
       "availability_90                        0\n",
       "availability_365                       0\n",
       "number_of_reviews                      0\n",
       "minimum_nights                         0\n",
       "requires_license                       0\n",
       "jurisdiction_names                     0\n",
       "instant_bookable                       0\n",
       "cancellation_policy                    0\n",
       "require_guest_profile_picture          0\n",
       "require_guest_phone_verification       0\n",
       "maximum_nights                         0\n",
       "extra_people                           0\n",
       "neighbourhood_group_cleansed           0\n",
       "calculated_host_listings_count         0\n",
       "city                                   0\n",
       "state                                  0\n",
       "market                                 0\n",
       "smart_location                         0\n",
       "country_code                           0\n",
       "country                                0\n",
       "longitude                              0\n",
       "guests_included                        0\n",
       "is_location_exact                      0\n",
       "room_type                              0\n",
       "accommodates                           0\n",
       "bed_type                               0\n",
       "amenities                              0\n",
       "price                                  0\n",
       "id                                     0\n",
       "dtype: int64"
      ]
     },
     "execution_count": 15,
     "metadata": {},
     "output_type": "execute_result"
    }
   ],
   "source": [
    "df_lis.isnull().sum().sort_values(ascending=False)"
   ]
  },
  {
   "cell_type": "code",
   "execution_count": 17,
   "metadata": {},
   "outputs": [
    {
     "data": {
      "text/plain": [
       "id             3818\n",
       "listing_url    3818\n",
       "picture_url    3818\n",
       "latitude       3818\n",
       "longitude      3818\n",
       "dtype: int64"
      ]
     },
     "execution_count": 17,
     "metadata": {},
     "output_type": "execute_result"
    }
   ],
   "source": [
    "df_lis.nunique()[df_lis.nunique()==len(df_lis)]"
   ]
  },
  {
   "cell_type": "code",
   "execution_count": 18,
   "metadata": {},
   "outputs": [
    {
     "data": {
      "text/plain": [
       "name                                3792\n",
       "description                         3742\n",
       "medium_url                          3498\n",
       "thumbnail_url                       3498\n",
       "xl_picture_url                      3498\n",
       "summary                             3478\n",
       "amenities                           3284\n",
       "space                               3119\n",
       "host_id                             2751\n",
       "host_url                            2751\n",
       "host_picture_url                    2743\n",
       "host_thumbnail_url                  2743\n",
       "transit                             2574\n",
       "neighborhood_overview               2506\n",
       "host_about                          2011\n",
       "notes                               1999\n",
       "host_name                           1466\n",
       "street                              1442\n",
       "host_since                          1380\n",
       "first_review                         984\n",
       "reviews_per_month                    654\n",
       "weekly_price                         395\n",
       "availability_365                     363\n",
       "monthly_price                        356\n",
       "last_review                          321\n",
       "price                                273\n",
       "number_of_reviews                    195\n",
       "host_location                        120\n",
       "cleaning_fee                         118\n",
       "host_verifications                   116\n",
       "host_neighbourhood                   102\n",
       "availability_90                       91\n",
       "neighbourhood_cleansed                87\n",
       "neighbourhood                         81\n",
       "maximum_nights                        68\n",
       "availability_60                       61\n",
       "square_feet                           47\n",
       "security_deposit                      46\n",
       "extra_people                          45\n",
       "host_response_rate                    45\n",
       "review_scores_rating                  42\n",
       "calendar_updated                      34\n",
       "availability_30                       31\n",
       "zipcode                               28\n",
       "host_listings_count                   27\n",
       "host_total_listings_count             27\n",
       "minimum_nights                        22\n",
       "calculated_host_listings_count        18\n",
       "neighbourhood_group_cleansed          17\n",
       "property_type                         16\n",
       "guests_included                       15\n",
       "accommodates                          15\n",
       "bathrooms                             12\n",
       "beds                                  11\n",
       "bedrooms                               8\n",
       "review_scores_checkin                  8\n",
       "review_scores_communication            8\n",
       "review_scores_cleanliness              8\n",
       "review_scores_value                    8\n",
       "review_scores_accuracy                 7\n",
       "smart_location                         7\n",
       "city                                   7\n",
       "review_scores_location                 6\n",
       "bed_type                               5\n",
       "host_response_time                     4\n",
       "room_type                              3\n",
       "cancellation_policy                    3\n",
       "instant_bookable                       2\n",
       "require_guest_profile_picture          2\n",
       "require_guest_phone_verification       2\n",
       "state                                  2\n",
       "host_acceptance_rate                   2\n",
       "host_is_superhost                      2\n",
       "is_location_exact                      2\n",
       "host_has_profile_pic                   2\n",
       "host_identity_verified                 2\n",
       "calendar_last_scraped                  1\n",
       "has_availability                       1\n",
       "requires_license                       1\n",
       "jurisdiction_names                     1\n",
       "experiences_offered                    1\n",
       "country                                1\n",
       "country_code                           1\n",
       "market                                 1\n",
       "last_scraped                           1\n",
       "scrape_id                              1\n",
       "license                                0\n",
       "dtype: int64"
      ]
     },
     "execution_count": 18,
     "metadata": {},
     "output_type": "execute_result"
    }
   ],
   "source": [
    "df_lis.nunique()[df_lis.nunique() != len(df_lis)].sort_values(ascending=False)"
   ]
  },
  {
   "cell_type": "markdown",
   "metadata": {},
   "source": [
    "#### Question-1\n",
    "\n",
    "When I look into the dataset, I see **amenities** column which gives detailed information about features of the listing. I would like to know what are the most common amenities that are available in Seattle Airbnb dataset. So the question is: What are the most common amenities?"
   ]
  },
  {
   "cell_type": "markdown",
   "metadata": {},
   "source": [
    "The code in the below cell creates the list of amenties available."
   ]
  },
  {
   "cell_type": "code",
   "execution_count": 19,
   "metadata": {},
   "outputs": [],
   "source": [
    "list_of_amenities = []\n",
    "for i in range(len(df_lis)):\n",
    "    list_of_amenities.append(df_lis['amenities'][i])\n",
    "\n",
    "list_of_amenities = list((s.strip('\\'\\{\\}') for s in list_of_amenities))\n",
    "list_of_amenities_string = \",\".join(list_of_amenities)\n",
    "list_of_amenities = list(set(list_of_amenities_string.split(\",\")))\n",
    "\n",
    "without_empty_list_of_amenities = []\n",
    "for string in list_of_amenities:\n",
    "    if (string != \"\"):\n",
    "        without_empty_list_of_amenities.append(string)\n",
    "list_of_amenities = without_empty_list_of_amenities"
   ]
  },
  {
   "cell_type": "markdown",
   "metadata": {},
   "source": [
    "The code in the below cell is taken from one of the Udacity lecture notes (named: HowToBreakIntoTheField.py).\n",
    "This function is used to count the number of listings that contains each amenity in the amenities list."
   ]
  },
  {
   "cell_type": "code",
   "execution_count": 20,
   "metadata": {},
   "outputs": [],
   "source": [
    "def total_count(df, col1, col2, look_for):\n",
    "    '''\n",
    "    INPUT:\n",
    "    df - pandas dataframe you want to search\n",
    "    col1 - column name you want to look through\n",
    "    col2 - column you want to count values from\n",
    "    look_for -list of strings you want to search for in each row of df[col]\n",
    "\n",
    "    OUTPUT:\n",
    "    new_df - a dataframe of each look_for with the count of how often it shows up\n",
    "    '''\n",
    "    new_df = defaultdict(int)\n",
    "    \n",
    "    for val in look_for:\n",
    "       \n",
    "        for idx in range(df.shape[0]):\n",
    "            \n",
    "            if val in df[col1][idx]:\n",
    "                new_df[val] += int(df[col2][idx])\n",
    "    new_df = pd.DataFrame(pd.Series(new_df)).reset_index()\n",
    "    new_df.columns = [col1, col2]\n",
    "    new_df.sort_values('count', ascending=False, inplace=True)\n",
    "    return new_df"
   ]
  },
  {
   "cell_type": "code",
   "execution_count": 21,
   "metadata": {},
   "outputs": [
    {
     "data": {
      "image/png": "[encoded data removed]",
      "text/plain": [
       "<Figure size 432x288 with 1 Axes>"
      ]
     },
     "metadata": {},
     "output_type": "display_data"
    }
   ],
   "source": [
    "study = df_lis['amenities'].value_counts().reset_index()\n",
    "study.rename(columns={'index': 'amenities', 'amenities': 'count'}, inplace=True)\n",
    "study_df = total_count(study, 'amenities', 'count', list_of_amenities)\n",
    "study_df.set_index('amenities', inplace=True)\n",
    "(study_df/len(df_lis))[:20].plot(kind='bar', legend=None);\n",
    "plt.title('Top 20 Most Common Amenities in The Dataset');\n",
    "plt.ylabel('How many percent of listings has the amenity')\n",
    "plt.show()"
   ]
  },
  {
   "cell_type": "markdown",
   "metadata": {},
   "source": [
    "In above chart you can see that the most common amenities in Seattle listings are:\n",
    "1. Internet\n",
    "2. Wireless Internet\n",
    "3. Heating\n",
    "4. Smoke Detector\n",
    "5. Essentials\n",
    "\n",
    "\n",
    "\n",
    "Whereas the least common amenities in Seattle listings are:\n",
    "1. Lock on Bedroom Door\n",
    "2. Doorman\n",
    "3. Smoking Allowed\n",
    "4. Other pet\n",
    "5. Washer"
   ]
  },
  {
   "cell_type": "markdown",
   "metadata": {},
   "source": [
    "#### Question-2\n",
    "\n",
    "When I look into the dataset, I see some important features of listigs. Some of these features have seperate columns (for example property_type or room_type) and some of these features are in **amenities** column. What I would like to know about this dataset is, \"What attracts the guests most for renting a property?\". I will try to answer this question below.\n",
    "\n",
    "In order to understand the popularity of a listing I will use the **availability_30** column. Because it gives an idea about the booking ratio (or popularity) of the property."
   ]
  },
  {
   "cell_type": "code",
   "execution_count": 22,
   "metadata": {},
   "outputs": [
    {
     "data": {
      "text/plain": [
       "0"
      ]
     },
     "execution_count": 22,
     "metadata": {},
     "output_type": "execute_result"
    }
   ],
   "source": [
    "df_lis['availability_30'].isnull().sum()"
   ]
  },
  {
   "cell_type": "code",
   "execution_count": 23,
   "metadata": {},
   "outputs": [],
   "source": [
    "df_lis['booking_ratio_30'] = 1 - (df_lis['availability_30']/30)"
   ]
  },
  {
   "cell_type": "code",
   "execution_count": 24,
   "metadata": {},
   "outputs": [
    {
     "data": {
      "text/plain": [
       "0    0.533333\n",
       "1    0.566667\n",
       "2    0.966667\n",
       "3    1.000000\n",
       "4    0.000000\n",
       "Name: booking_ratio_30, dtype: float64"
      ]
     },
     "execution_count": 24,
     "metadata": {},
     "output_type": "execute_result"
    }
   ],
   "source": [
    "df_lis['booking_ratio_30'].head()"
   ]
  },
  {
   "cell_type": "markdown",
   "metadata": {},
   "source": [
    "Above, I found a percantage on booking ratio of each listing. Now I will have to make seperate columns for each of the features that I will investige whether they attract the guests for choosing the listing to rent.\n",
    "\n",
    "First feature I would like to investigate is **room_type**."
   ]
  },
  {
   "cell_type": "code",
   "execution_count": 25,
   "metadata": {},
   "outputs": [
    {
     "data": {
      "text/plain": [
       "0"
      ]
     },
     "execution_count": 25,
     "metadata": {},
     "output_type": "execute_result"
    }
   ],
   "source": [
    "df_lis['room_type'].isnull().sum()"
   ]
  },
  {
   "cell_type": "code",
   "execution_count": 27,
   "metadata": {},
   "outputs": [
    {
     "data": {
      "text/plain": [
       "Entire home/apt    2541\n",
       "Private room       1160\n",
       "Shared room         117\n",
       "Name: room_type, dtype: int64"
      ]
     },
     "execution_count": 27,
     "metadata": {},
     "output_type": "execute_result"
    }
   ],
   "source": [
    "df_lis['room_type'].value_counts().sort_values(ascending=False)"
   ]
  },
  {
   "cell_type": "markdown",
   "metadata": {},
   "source": [
    "Above, I found that there is not any missing values in the room_type column and also there are three different types of rooms. How about these different rooms booking ratios?"
   ]
  },
  {
   "cell_type": "code",
   "execution_count": 31,
   "metadata": {},
   "outputs": [
    {
     "data": {
      "text/plain": [
       "room_type\n",
       "Entire home/apt    0.483353\n",
       "Private room       0.362759\n",
       "Shared room        0.279202\n",
       "Name: booking_ratio_30, dtype: float64"
      ]
     },
     "execution_count": 31,
     "metadata": {},
     "output_type": "execute_result"
    }
   ],
   "source": [
    "df_lis.groupby(['room_type'])['booking_ratio_30'].mean().sort_values(ascending=False)"
   ]
  },
  {
   "cell_type": "code",
   "execution_count": 32,
   "metadata": {},
   "outputs": [
    {
     "data": {
      "image/png": "[encoded data removed]",
      "text/plain": [
       "<Figure size 432x288 with 1 Axes>"
      ]
     },
     "metadata": {},
     "output_type": "display_data"
    }
   ],
   "source": [
    "(df_lis.groupby(['room_type'])['booking_ratio_30'].mean().sort_values(ascending=False)).plot(kind='bar', legend=None)\n",
    "plt.title('Booking Ratio for Next 30 Days Depending On room_type');\n",
    "plt.show()"
   ]
  },
  {
   "cell_type": "code",
   "execution_count": 33,
   "metadata": {},
   "outputs": [
    {
     "data": {
      "text/plain": [
       "House              1733\n",
       "Apartment          1708\n",
       "Townhouse           118\n",
       "Condominium          91\n",
       "Loft                 40\n",
       "Bed & Breakfast      37\n",
       "Other                22\n",
       "Cabin                21\n",
       "Camper/RV            13\n",
       "Bungalow             13\n",
       "Boat                  8\n",
       "Tent                  5\n",
       "Treehouse             3\n",
       "Chalet                2\n",
       "Dorm                  2\n",
       "Yurt                  1\n",
       "Name: property_type, dtype: int64"
      ]
     },
     "execution_count": 33,
     "metadata": {},
     "output_type": "execute_result"
    }
   ],
   "source": [
    "df_lis['property_type'].value_counts().sort_values(ascending=False)"
   ]
  },
  {
   "cell_type": "code",
   "execution_count": 34,
   "metadata": {},
   "outputs": [
    {
     "data": {
      "text/plain": [
       "property_type\n",
       "Tent               0.800000\n",
       "Dorm               0.666667\n",
       "Treehouse          0.666667\n",
       "Chalet             0.500000\n",
       "Cabin              0.469841\n",
       "Apartment          0.456011\n",
       "Condominium        0.454579\n",
       "Loft               0.435000\n",
       "House              0.432583\n",
       "Townhouse          0.413559\n",
       "Camper/RV          0.410256\n",
       "Other              0.301515\n",
       "Bed & Breakfast    0.257658\n",
       "Boat               0.250000\n",
       "Bungalow           0.215385\n",
       "Yurt               0.066667\n",
       "Name: booking_ratio_30, dtype: float64"
      ]
     },
     "execution_count": 34,
     "metadata": {},
     "output_type": "execute_result"
    }
   ],
   "source": [
    "df_lis.groupby(['property_type'])['booking_ratio_30'].mean().sort_values(ascending=False)"
   ]
  },
  {
   "cell_type": "code",
   "execution_count": 35,
   "metadata": {},
   "outputs": [
    {
     "data": {
      "image/png": "[encoded data removed]",
      "text/plain": [
       "<Figure size 432x288 with 1 Axes>"
      ]
     },
     "metadata": {},
     "output_type": "display_data"
    }
   ],
   "source": [
    "(df_lis.groupby(['property_type'])['booking_ratio_30'].mean().sort_values(ascending=False)).plot(kind='bar', legend=None)\n",
    "plt.title('Booking Ratio for Next 30 Days Depending On property_type');\n",
    "plt.show()"
   ]
  },
  {
   "cell_type": "markdown",
   "metadata": {},
   "source": [
    "How about the **amenities** and their effect for attracting the guest? In order to answer the first question I had created the list of amenities which will be useful here to answer the second question."
   ]
  },
  {
   "cell_type": "code",
   "execution_count": 36,
   "metadata": {
    "scrolled": true
   },
   "outputs": [
    {
     "data": {
      "text/plain": [
       "0"
      ]
     },
     "execution_count": 36,
     "metadata": {},
     "output_type": "execute_result"
    }
   ],
   "source": [
    "df_lis['amenities'].isnull().sum()"
   ]
  },
  {
   "cell_type": "code",
   "execution_count": 37,
   "metadata": {},
   "outputs": [],
   "source": [
    "for i in range(len(list_of_amenities)):\n",
    "    df_lis[list_of_amenities[i]] = 0"
   ]
  },
  {
   "cell_type": "markdown",
   "metadata": {},
   "source": [
    "*\"Below cell, takes about **3 minutes** to work on my machine.\"*"
   ]
  },
  {
   "cell_type": "code",
   "execution_count": 38,
   "metadata": {},
   "outputs": [],
   "source": [
    "for i in range(len(list_of_amenities)):\n",
    "    for t in range(len(df_lis)):\n",
    "        if list_of_amenities[i] in df_lis['amenities'][t]:\n",
    "            df_lis.loc[t , list_of_amenities[i]] = 1\n",
    "        else:\n",
    "            df_lis.loc[t , list_of_amenities[i]] = 0"
   ]
  },
  {
   "cell_type": "code",
   "execution_count": 39,
   "metadata": {},
   "outputs": [],
   "source": [
    "amenities_importance = pd.DataFrame(index=range(0,len(list_of_amenities)), columns = [\"Amenity_Name\", \"Booking Ratio for HAVING the Amenity\", \"Booking Ratio for NOT HAVING the Amenity\", \"Booking Difference\"])\n",
    "\n",
    "\n",
    "for i in range(len(list_of_amenities)):\n",
    "    amenities_importance['Amenity_Name'][i] = list_of_amenities[i]\n",
    "    amenities_importance['Booking Ratio for HAVING the Amenity'][i] = df_lis.groupby([list_of_amenities[i]])['booking_ratio_30'].mean()[1]\n",
    "    amenities_importance['Booking Ratio for NOT HAVING the Amenity'][i] = df_lis.groupby([list_of_amenities[i]])['booking_ratio_30'].mean()[0]\n",
    "    amenities_importance['Booking Difference'][i] = amenities_importance['Booking Ratio for HAVING the Amenity'][i] - amenities_importance['Booking Ratio for NOT HAVING the Amenity'][i]\n",
    "\n",
    "amenities_importance.set_index('Amenity_Name', inplace=True)"
   ]
  },
  {
   "cell_type": "code",
   "execution_count": 40,
   "metadata": {},
   "outputs": [
    {
     "data": {
      "text/html": [
       "<div>\n",
       "<style scoped>\n",
       "    .dataframe tbody tr th:only-of-type {\n",
       "        vertical-align: middle;\n",
       "    }\n",
       "\n",
       "    .dataframe tbody tr th {\n",
       "        vertical-align: top;\n",
       "    }\n",
       "\n",
       "    .dataframe thead th {\n",
       "        text-align: right;\n",
       "    }\n",
       "</style>\n",
       "<table border=\"1\" class=\"dataframe\">\n",
       "  <thead>\n",
       "    <tr style=\"text-align: right;\">\n",
       "      <th></th>\n",
       "      <th>Booking Ratio for HAVING the Amenity</th>\n",
       "      <th>Booking Ratio for NOT HAVING the Amenity</th>\n",
       "      <th>Booking Difference</th>\n",
       "    </tr>\n",
       "    <tr>\n",
       "      <th>Amenity_Name</th>\n",
       "      <th></th>\n",
       "      <th></th>\n",
       "      <th></th>\n",
       "    </tr>\n",
       "  </thead>\n",
       "  <tbody>\n",
       "    <tr>\n",
       "      <th>\"Washer / Dryer\"</th>\n",
       "      <td>0.616667</td>\n",
       "      <td>0.440365</td>\n",
       "      <td>0.176302</td>\n",
       "    </tr>\n",
       "    <tr>\n",
       "      <th>Kitchen</th>\n",
       "      <td>0.451154</td>\n",
       "      <td>0.347764</td>\n",
       "      <td>0.10339</td>\n",
       "    </tr>\n",
       "    <tr>\n",
       "      <th>Cat(s)</th>\n",
       "      <td>0.486649</td>\n",
       "      <td>0.435322</td>\n",
       "      <td>0.0513271</td>\n",
       "    </tr>\n",
       "    <tr>\n",
       "      <th>\"Pets Allowed\"</th>\n",
       "      <td>0.47959</td>\n",
       "      <td>0.434937</td>\n",
       "      <td>0.0446532</td>\n",
       "    </tr>\n",
       "    <tr>\n",
       "      <th>\"Other pet(s)\"</th>\n",
       "      <td>0.48366</td>\n",
       "      <td>0.439873</td>\n",
       "      <td>0.0437876</td>\n",
       "    </tr>\n",
       "    <tr>\n",
       "      <th>Dryer</th>\n",
       "      <td>0.448523</td>\n",
       "      <td>0.404782</td>\n",
       "      <td>0.0437406</td>\n",
       "    </tr>\n",
       "    <tr>\n",
       "      <th>Washer</th>\n",
       "      <td>0.449543</td>\n",
       "      <td>0.407546</td>\n",
       "      <td>0.0419968</td>\n",
       "    </tr>\n",
       "    <tr>\n",
       "      <th>\"Smoke Detector\"</th>\n",
       "      <td>0.445992</td>\n",
       "      <td>0.406642</td>\n",
       "      <td>0.0393502</td>\n",
       "    </tr>\n",
       "    <tr>\n",
       "      <th>\"Pets live on this property\"</th>\n",
       "      <td>0.464477</td>\n",
       "      <td>0.433231</td>\n",
       "      <td>0.031246</td>\n",
       "    </tr>\n",
       "    <tr>\n",
       "      <th>TV</th>\n",
       "      <td>0.448377</td>\n",
       "      <td>0.420303</td>\n",
       "      <td>0.0280732</td>\n",
       "    </tr>\n",
       "  </tbody>\n",
       "</table>\n",
       "</div>"
      ],
      "text/plain": [
       "                             Booking Ratio for HAVING the Amenity  \\\n",
       "Amenity_Name                                                        \n",
       "\"Washer / Dryer\"                                         0.616667   \n",
       "Kitchen                                                  0.451154   \n",
       "Cat(s)                                                   0.486649   \n",
       "\"Pets Allowed\"                                            0.47959   \n",
       "\"Other pet(s)\"                                            0.48366   \n",
       "Dryer                                                    0.448523   \n",
       "Washer                                                   0.449543   \n",
       "\"Smoke Detector\"                                         0.445992   \n",
       "\"Pets live on this property\"                             0.464477   \n",
       "TV                                                       0.448377   \n",
       "\n",
       "                             Booking Ratio for NOT HAVING the Amenity  \\\n",
       "Amenity_Name                                                            \n",
       "\"Washer / Dryer\"                                             0.440365   \n",
       "Kitchen                                                      0.347764   \n",
       "Cat(s)                                                       0.435322   \n",
       "\"Pets Allowed\"                                               0.434937   \n",
       "\"Other pet(s)\"                                               0.439873   \n",
       "Dryer                                                        0.404782   \n",
       "Washer                                                       0.407546   \n",
       "\"Smoke Detector\"                                             0.406642   \n",
       "\"Pets live on this property\"                                 0.433231   \n",
       "TV                                                           0.420303   \n",
       "\n",
       "                             Booking Difference  \n",
       "Amenity_Name                                     \n",
       "\"Washer / Dryer\"                       0.176302  \n",
       "Kitchen                                 0.10339  \n",
       "Cat(s)                                0.0513271  \n",
       "\"Pets Allowed\"                        0.0446532  \n",
       "\"Other pet(s)\"                        0.0437876  \n",
       "Dryer                                 0.0437406  \n",
       "Washer                                0.0419968  \n",
       "\"Smoke Detector\"                      0.0393502  \n",
       "\"Pets live on this property\"           0.031246  \n",
       "TV                                    0.0280732  "
      ]
     },
     "execution_count": 40,
     "metadata": {},
     "output_type": "execute_result"
    }
   ],
   "source": [
    "amenities_importance.sort_values(by='Booking Difference', ascending = False)[:10]"
   ]
  },
  {
   "cell_type": "code",
   "execution_count": 41,
   "metadata": {
    "scrolled": true
   },
   "outputs": [
    {
     "data": {
      "image/png": "[encoded data removed]",
      "text/plain": [
       "<Figure size 432x288 with 1 Axes>"
      ]
     },
     "metadata": {},
     "output_type": "display_data"
    }
   ],
   "source": [
    "amenities_importance['Booking Difference'].sort_values(ascending = False)[:10].plot(kind='bar', legend=None)\n",
    "plt.title('Most Popular Amenities');\n",
    "plt.ylabel('Booking Ratio Difference for Next 30 Days')\n",
    "plt.show()"
   ]
  },
  {
   "cell_type": "code",
   "execution_count": 42,
   "metadata": {},
   "outputs": [
    {
     "data": {
      "image/png": "[encoded data removed]",
      "text/plain": [
       "<Figure size 432x288 with 1 Axes>"
      ]
     },
     "metadata": {},
     "output_type": "display_data"
    }
   ],
   "source": [
    "amenities_importance['Booking Difference'].sort_values(ascending = True)[:10].plot(kind='bar', legend=None)\n",
    "plt.title('Least Popular Amenities');\n",
    "plt.ylabel('Booking Ratio Difference for Next 30 Days')\n",
    "plt.show()"
   ]
  },
  {
   "cell_type": "markdown",
   "metadata": {},
   "source": [
    "So for the answer of Question-2 (\"What attracts the guests most for renting a property?\") we can say that having a Washer/Dryer increases the booking rate for next 30 days more than 15%. Also having a kitchen and allowing pets are good ideas for increasing the popularity for a listing.\n",
    "\n",
    "Also when comparing different room_types, an \"Entire home/apt\" is more than 10% more popular than a private room or a shared room.\n",
    "It looks like having a pool or serving breakfast does not help a listing to be preferred, probably because of the increased price with these amenities."
   ]
  },
  {
   "cell_type": "markdown",
   "metadata": {},
   "source": [
    "#### Question-3\n",
    "\n",
    "There are so many features in the dataset, that has effect on the price of the listing. In the third question I would like to train a model to estimate the price of a listing. So the question I would like to answer is: How can we estimate the price of a listing, what are the most influencial features of the dataset to estimate the price of a listing."
   ]
  },
  {
   "cell_type": "markdown",
   "metadata": {},
   "source": [
    "First I would like to know about the number of missing values in the features that are related to price."
   ]
  },
  {
   "cell_type": "code",
   "execution_count": 43,
   "metadata": {},
   "outputs": [
    {
     "name": "stdout",
     "output_type": "stream",
     "text": [
      "0\n",
      "1809\n",
      "2301\n",
      "1952\n",
      "1030\n"
     ]
    }
   ],
   "source": [
    "print(df_lis['price'].isnull().sum())\n",
    "print(df_lis['weekly_price'].isnull().sum())\n",
    "print(df_lis['monthly_price'].isnull().sum())\n",
    "print(df_lis['security_deposit'].isnull().sum())\n",
    "print(df_lis['cleaning_fee'].isnull().sum())"
   ]
  },
  {
   "cell_type": "markdown",
   "metadata": {},
   "source": [
    "There are five different prices in the dataset, which are listed below.\n",
    "- price\n",
    "- weekly_price\n",
    "- monthly_price\n",
    "- security_deposit\n",
    "- cleaning_fee\n",
    "\n",
    "In the code cell above, I find the number of null values in each column. As can be seen, some of the listings do not have weekly or monthly price. So it is a better idea to model the \"price\" because of larger sample size.\n",
    "I will not take into account the security deposit and cleaning fee."
   ]
  },
  {
   "cell_type": "code",
   "execution_count": 44,
   "metadata": {},
   "outputs": [],
   "source": [
    "\n",
    "features_of_interest = ['bathrooms', 'bedrooms', 'beds', 'latitude', 'longitude', 'square_feet', 'reviews_per_month',\n",
    "        'booking_ratio_30', 'accommodates', 'guests_included', '\"24-Hour Check-in\"', '\"Suitable for Events\"',\n",
    "       '\"Pets live on this property\"', 'Dog(s)', '\"Smoking Allowed\"',\n",
    "       '\"Other pet(s)\"', 'Essentials', '\"Wireless Internet\"',\n",
    "       '\"Buzzer/Wireless Intercom\"', 'TV', 'Gym', 'Washer', 'Doorman', 'Dryer',\n",
    "       '\"Hot Tub\"', '\"Air Conditioning\"', '\"Pets Allowed\"', 'Pool',\n",
    "       '\"Hair Dryer\"', '\"Fire Extinguisher\"', 'Breakfast', '\"Washer / Dryer\"',\n",
    "       '\"Laptop Friendly Workspace\"', '\"Free Parking on Premises\"',\n",
    "       '\"Lock on Bedroom Door\"', 'Cat(s)', 'Hangers', '\"Family/Kid Friendly\"',\n",
    "       '\"Carbon Monoxide Detector\"', '\"Safety Card\"', 'Kitchen',\n",
    "       '\"Elevator in Building\"', 'Internet', 'Shampoo', '\"Smoke Detector\"',\n",
    "       '\"Wheelchair Accessible\"', 'Iron', '\"First Aid Kit\"',\n",
    "       '\"Indoor Fireplace\"', '\"Cable TV\"', 'Heating', 'host_is_superhost', 'neighbourhood_group_cleansed',\n",
    "        'property_type','room_type','bed_type','price','security_deposit',\n",
    "        'cleaning_fee', 'extra_people', 'instant_bookable', 'cancellation_policy']\n",
    "\n",
    "df_lis_ml = df_lis[features_of_interest]"
   ]
  },
  {
   "cell_type": "code",
   "execution_count": 45,
   "metadata": {},
   "outputs": [
    {
     "data": {
      "text/plain": [
       "bathrooms              16\n",
       "bedrooms                6\n",
       "beds                    1\n",
       "square_feet          3721\n",
       "reviews_per_month     627\n",
       "host_is_superhost       2\n",
       "property_type           1\n",
       "security_deposit     1952\n",
       "cleaning_fee         1030\n",
       "dtype: int64"
      ]
     },
     "execution_count": 45,
     "metadata": {},
     "output_type": "execute_result"
    }
   ],
   "source": [
    "df_lis_ml.isnull().sum()[df_lis_ml.isnull().sum()>0]"
   ]
  },
  {
   "cell_type": "markdown",
   "metadata": {},
   "source": [
    "There are only 9 columns that have missing values. Here is the strategy that I have for filling each of the columns:\n",
    "- Almost all of **square_feet** are missing. So I decided to drop that columns since I have columns like beds, bedrooms and bathrooms columns that can replace the square_feet.\n",
    "- bathrooms, bedrooms and beds have very few missing values. reviews_per_month also has some missing values. Since all these columns are float, I will fill the missing values with the mean of that column.\n",
    "- host_is_superhost and property_type are categorical columns so for filling the missing values (which are very few) I will use the mode.\n",
    "- security_deposit and cleaning_fee have object data type. I will change this later but for now I want to fill the missing values. The missing values here most probably mean they are equal to zero, so I will fill them with zero."
   ]
  },
  {
   "cell_type": "code",
   "execution_count": 46,
   "metadata": {},
   "outputs": [],
   "source": [
    "df_lis_ml = df_lis_ml.drop(columns='square_feet')"
   ]
  },
  {
   "cell_type": "code",
   "execution_count": 47,
   "metadata": {},
   "outputs": [],
   "source": [
    "df_lis_ml['bathrooms'].fillna(df_lis_ml['bathrooms'].mean(), inplace=True)\n",
    "df_lis_ml['bedrooms'].fillna(df_lis_ml['bedrooms'].mean(), inplace=True)\n",
    "df_lis_ml['beds'].fillna(df_lis_ml['beds'].mean(), inplace=True)\n",
    "df_lis_ml['reviews_per_month'].fillna(df_lis_ml['reviews_per_month'].mean(), inplace=True)"
   ]
  },
  {
   "cell_type": "code",
   "execution_count": 48,
   "metadata": {},
   "outputs": [],
   "source": [
    "df_lis_ml['host_is_superhost'].fillna(df_lis_ml['host_is_superhost'].mode()[0], inplace=True)\n",
    "df_lis_ml['property_type'].fillna(df_lis_ml['property_type'].mode()[0], inplace=True)"
   ]
  },
  {
   "cell_type": "code",
   "execution_count": 49,
   "metadata": {},
   "outputs": [],
   "source": [
    "df_lis_ml['security_deposit'].fillna(0, inplace=True)\n",
    "df_lis_ml['cleaning_fee'].fillna(0, inplace=True)"
   ]
  },
  {
   "cell_type": "markdown",
   "metadata": {},
   "source": [
    "Now I will check the datatypes, make necessary changes for the datatypes. Also I will have to make new columns for categorical columns."
   ]
  },
  {
   "cell_type": "code",
   "execution_count": 50,
   "metadata": {},
   "outputs": [
    {
     "data": {
      "text/plain": [
       "bathrooms                       float64\n",
       "bedrooms                        float64\n",
       "beds                            float64\n",
       "latitude                        float64\n",
       "longitude                       float64\n",
       "reviews_per_month               float64\n",
       "booking_ratio_30                float64\n",
       "accommodates                      int64\n",
       "guests_included                   int64\n",
       "\"24-Hour Check-in\"                int64\n",
       "\"Suitable for Events\"             int64\n",
       "\"Pets live on this property\"      int64\n",
       "Dog(s)                            int64\n",
       "\"Smoking Allowed\"                 int64\n",
       "\"Other pet(s)\"                    int64\n",
       "Essentials                        int64\n",
       "\"Wireless Internet\"               int64\n",
       "\"Buzzer/Wireless Intercom\"        int64\n",
       "TV                                int64\n",
       "Gym                               int64\n",
       "Washer                            int64\n",
       "Doorman                           int64\n",
       "Dryer                             int64\n",
       "\"Hot Tub\"                         int64\n",
       "\"Air Conditioning\"                int64\n",
       "\"Pets Allowed\"                    int64\n",
       "Pool                              int64\n",
       "\"Hair Dryer\"                      int64\n",
       "\"Fire Extinguisher\"               int64\n",
       "Breakfast                         int64\n",
       "\"Washer / Dryer\"                  int64\n",
       "\"Laptop Friendly Workspace\"       int64\n",
       "\"Free Parking on Premises\"        int64\n",
       "\"Lock on Bedroom Door\"            int64\n",
       "Cat(s)                            int64\n",
       "Hangers                           int64\n",
       "\"Family/Kid Friendly\"             int64\n",
       "\"Carbon Monoxide Detector\"        int64\n",
       "\"Safety Card\"                     int64\n",
       "Kitchen                           int64\n",
       "\"Elevator in Building\"            int64\n",
       "Internet                          int64\n",
       "Shampoo                           int64\n",
       "\"Smoke Detector\"                  int64\n",
       "\"Wheelchair Accessible\"           int64\n",
       "Iron                              int64\n",
       "\"First Aid Kit\"                   int64\n",
       "\"Indoor Fireplace\"                int64\n",
       "\"Cable TV\"                        int64\n",
       "Heating                           int64\n",
       "host_is_superhost                object\n",
       "neighbourhood_group_cleansed     object\n",
       "property_type                    object\n",
       "room_type                        object\n",
       "bed_type                         object\n",
       "price                            object\n",
       "security_deposit                 object\n",
       "cleaning_fee                     object\n",
       "extra_people                     object\n",
       "instant_bookable                 object\n",
       "cancellation_policy              object\n",
       "dtype: object"
      ]
     },
     "execution_count": 50,
     "metadata": {},
     "output_type": "execute_result"
    }
   ],
   "source": [
    "df_lis_ml.dtypes"
   ]
  },
  {
   "cell_type": "markdown",
   "metadata": {},
   "source": [
    "The following columns have to change from object to float:\n",
    "- price\n",
    "- security_deposit\n",
    "- cleaning_fee"
   ]
  },
  {
   "cell_type": "code",
   "execution_count": 51,
   "metadata": {},
   "outputs": [],
   "source": [
    "df_lis_ml['price'] = df_lis_ml['price'].str.replace('$', '')\n",
    "df_lis_ml['security_deposit'] = df_lis_ml['security_deposit'].str.replace('$', '')\n",
    "df_lis_ml['cleaning_fee'] = df_lis_ml['cleaning_fee'].str.replace('$', '')\n",
    "df_lis_ml['extra_people'] = df_lis_ml['extra_people'].str.replace('$', '')\n",
    "\n",
    "df_lis_ml['price'] = df_lis_ml['price'].str.replace(',', '')\n",
    "df_lis_ml['security_deposit'] = df_lis_ml['security_deposit'].str.replace(',', '')\n",
    "df_lis_ml['cleaning_fee'] = df_lis_ml['cleaning_fee'].str.replace(',', '')\n",
    "df_lis_ml['extra_people'] = df_lis_ml['extra_people'].str.replace(',', '')\n",
    "\n",
    "df_lis_ml['security_deposit'].fillna(0, inplace=True)\n",
    "df_lis_ml['cleaning_fee'].fillna(0, inplace=True)"
   ]
  },
  {
   "cell_type": "code",
   "execution_count": 52,
   "metadata": {},
   "outputs": [],
   "source": [
    "df_lis_ml['price'] = df_lis_ml['price'].astype(float)\n",
    "df_lis_ml['security_deposit'] = df_lis_ml['security_deposit'].astype(float)\n",
    "df_lis_ml['cleaning_fee'] = df_lis_ml['cleaning_fee'].astype(float)\n",
    "df_lis_ml['extra_people'] = df_lis_ml['extra_people'].astype(float)"
   ]
  },
  {
   "cell_type": "code",
   "execution_count": 53,
   "metadata": {
    "scrolled": true
   },
   "outputs": [],
   "source": [
    "cat_cols = df_lis_ml.select_dtypes(include=['object'])"
   ]
  },
  {
   "cell_type": "code",
   "execution_count": 74,
   "metadata": {},
   "outputs": [
    {
     "data": {
      "text/html": [
       "<div>\n",
       "<style scoped>\n",
       "    .dataframe tbody tr th:only-of-type {\n",
       "        vertical-align: middle;\n",
       "    }\n",
       "\n",
       "    .dataframe tbody tr th {\n",
       "        vertical-align: top;\n",
       "    }\n",
       "\n",
       "    .dataframe thead th {\n",
       "        text-align: right;\n",
       "    }\n",
       "</style>\n",
       "<table border=\"1\" class=\"dataframe\">\n",
       "  <thead>\n",
       "    <tr style=\"text-align: right;\">\n",
       "      <th></th>\n",
       "      <th>host_is_superhost</th>\n",
       "      <th>neighbourhood_group_cleansed</th>\n",
       "      <th>property_type</th>\n",
       "      <th>room_type</th>\n",
       "      <th>bed_type</th>\n",
       "      <th>instant_bookable</th>\n",
       "      <th>cancellation_policy</th>\n",
       "    </tr>\n",
       "  </thead>\n",
       "  <tbody>\n",
       "    <tr>\n",
       "      <th>0</th>\n",
       "      <td>f</td>\n",
       "      <td>Queen Anne</td>\n",
       "      <td>Apartment</td>\n",
       "      <td>Entire home/apt</td>\n",
       "      <td>Real Bed</td>\n",
       "      <td>f</td>\n",
       "      <td>moderate</td>\n",
       "    </tr>\n",
       "    <tr>\n",
       "      <th>1</th>\n",
       "      <td>t</td>\n",
       "      <td>Queen Anne</td>\n",
       "      <td>Apartment</td>\n",
       "      <td>Entire home/apt</td>\n",
       "      <td>Real Bed</td>\n",
       "      <td>f</td>\n",
       "      <td>strict</td>\n",
       "    </tr>\n",
       "    <tr>\n",
       "      <th>2</th>\n",
       "      <td>f</td>\n",
       "      <td>Queen Anne</td>\n",
       "      <td>House</td>\n",
       "      <td>Entire home/apt</td>\n",
       "      <td>Real Bed</td>\n",
       "      <td>f</td>\n",
       "      <td>strict</td>\n",
       "    </tr>\n",
       "    <tr>\n",
       "      <th>3</th>\n",
       "      <td>f</td>\n",
       "      <td>Queen Anne</td>\n",
       "      <td>Apartment</td>\n",
       "      <td>Entire home/apt</td>\n",
       "      <td>Real Bed</td>\n",
       "      <td>f</td>\n",
       "      <td>flexible</td>\n",
       "    </tr>\n",
       "    <tr>\n",
       "      <th>4</th>\n",
       "      <td>f</td>\n",
       "      <td>Queen Anne</td>\n",
       "      <td>House</td>\n",
       "      <td>Entire home/apt</td>\n",
       "      <td>Real Bed</td>\n",
       "      <td>f</td>\n",
       "      <td>strict</td>\n",
       "    </tr>\n",
       "  </tbody>\n",
       "</table>\n",
       "</div>"
      ],
      "text/plain": [
       "  host_is_superhost neighbourhood_group_cleansed property_type  \\\n",
       "0                 f                   Queen Anne     Apartment   \n",
       "1                 t                   Queen Anne     Apartment   \n",
       "2                 f                   Queen Anne         House   \n",
       "3                 f                   Queen Anne     Apartment   \n",
       "4                 f                   Queen Anne         House   \n",
       "\n",
       "         room_type  bed_type instant_bookable cancellation_policy  \n",
       "0  Entire home/apt  Real Bed                f            moderate  \n",
       "1  Entire home/apt  Real Bed                f              strict  \n",
       "2  Entire home/apt  Real Bed                f              strict  \n",
       "3  Entire home/apt  Real Bed                f            flexible  \n",
       "4  Entire home/apt  Real Bed                f              strict  "
      ]
     },
     "execution_count": 74,
     "metadata": {},
     "output_type": "execute_result"
    }
   ],
   "source": [
    "cat_cols.head()"
   ]
  },
  {
   "cell_type": "code",
   "execution_count": 54,
   "metadata": {},
   "outputs": [],
   "source": [
    "for col in cat_cols:\n",
    "    try:\n",
    "        df_lis_ml = pd.concat([df_lis_ml.drop(col, axis=1), pd.get_dummies(df_lis_ml[col], prefix=col, prefix_sep='_', drop_first=True)], axis=1)\n",
    "    except:\n",
    "        continue"
   ]
  },
  {
   "cell_type": "markdown",
   "metadata": {},
   "source": [
    "Since I made the data ready, I will try Linear Regression to estimate price depending on features I selected."
   ]
  },
  {
   "cell_type": "code",
   "execution_count": 55,
   "metadata": {},
   "outputs": [],
   "source": [
    "y = df_lis_ml['price']\n",
    "X = df_lis_ml.drop(columns='price')"
   ]
  },
  {
   "cell_type": "code",
   "execution_count": 56,
   "metadata": {},
   "outputs": [],
   "source": [
    "X_train, X_test, y_train, y_test = train_test_split(X, y, test_size = 0.2, random_state=42)"
   ]
  },
  {
   "cell_type": "code",
   "execution_count": 57,
   "metadata": {
    "scrolled": true
   },
   "outputs": [
    {
     "name": "stdout",
     "output_type": "stream",
     "text": [
      "0.6193258748837267\n"
     ]
    }
   ],
   "source": [
    "lm_model = LinearRegression(normalize=True)\n",
    "lm_model.fit(X_train, y_train)\n",
    "y_test_preds = lm_model.predict(X_test)\n",
    "test_score = r2_score(y_test, y_test_preds)\n",
    "print(test_score)"
   ]
  },
  {
   "cell_type": "markdown",
   "metadata": {},
   "source": [
    "The r-squared value of my model is 0.619 which is not too high."
   ]
  },
  {
   "cell_type": "markdown",
   "metadata": {},
   "source": [
    "I want to investigate about the coefficients of my model. Below function is taken from one of the Udacity jupyter notebook examples. I used this code to see coefficients of my model."
   ]
  },
  {
   "cell_type": "code",
   "execution_count": 58,
   "metadata": {},
   "outputs": [],
   "source": [
    "def coef_weights(coefficients, X_train):\n",
    "    '''\n",
    "    INPUT:\n",
    "    coefficients - coefficients of the linear model \n",
    "    X_train - training data, so the column names can be used\n",
    "    OUTPUT:\n",
    "    coefs_df -dataframe holding coefficient, estimate, and abs\n",
    "    \n",
    "    Provides dataframe that can be used to understand the most influential coefficients\n",
    "    in a linear model by providing coefficient estimates along with the name of the \n",
    "    variable attached to coefficient.\n",
    "    '''\n",
    "    coefs_df = pd.DataFrame()\n",
    "    coefs_df['est_int'] = X_train.columns\n",
    "    coefs_df['coefs'] = lm_model.coef_\n",
    "    coefs_df['abs_coefs'] = np.abs(lm_model.coef_)\n",
    "    coefs_df = coefs_df.sort_values('abs_coefs', ascending=False)\n",
    "    return coefs_df\n",
    "\n",
    "\n",
    "coef_df = coef_weights(lm_model.coef_, X_train)"
   ]
  },
  {
   "cell_type": "markdown",
   "metadata": {},
   "source": [
    "Below is the list features that are the most influential coefficients. "
   ]
  },
  {
   "cell_type": "code",
   "execution_count": 59,
   "metadata": {},
   "outputs": [
    {
     "data": {
      "text/html": [
       "<div>\n",
       "<style scoped>\n",
       "    .dataframe tbody tr th:only-of-type {\n",
       "        vertical-align: middle;\n",
       "    }\n",
       "\n",
       "    .dataframe tbody tr th {\n",
       "        vertical-align: top;\n",
       "    }\n",
       "\n",
       "    .dataframe thead th {\n",
       "        text-align: right;\n",
       "    }\n",
       "</style>\n",
       "<table border=\"1\" class=\"dataframe\">\n",
       "  <thead>\n",
       "    <tr style=\"text-align: right;\">\n",
       "      <th></th>\n",
       "      <th>est_int</th>\n",
       "      <th>coefs</th>\n",
       "      <th>abs_coefs</th>\n",
       "    </tr>\n",
       "  </thead>\n",
       "  <tbody>\n",
       "    <tr>\n",
       "      <th>71</th>\n",
       "      <td>property_type_Boat</td>\n",
       "      <td>173.995502</td>\n",
       "      <td>173.995502</td>\n",
       "    </tr>\n",
       "    <tr>\n",
       "      <th>3</th>\n",
       "      <td>latitude</td>\n",
       "      <td>-76.983483</td>\n",
       "      <td>76.983483</td>\n",
       "    </tr>\n",
       "    <tr>\n",
       "      <th>86</th>\n",
       "      <td>room_type_Shared room</td>\n",
       "      <td>-70.314136</td>\n",
       "      <td>70.314136</td>\n",
       "    </tr>\n",
       "    <tr>\n",
       "      <th>74</th>\n",
       "      <td>property_type_Camper/RV</td>\n",
       "      <td>65.863014</td>\n",
       "      <td>65.863014</td>\n",
       "    </tr>\n",
       "    <tr>\n",
       "      <th>41</th>\n",
       "      <td>Internet</td>\n",
       "      <td>-39.714560</td>\n",
       "      <td>39.714560</td>\n",
       "    </tr>\n",
       "    <tr>\n",
       "      <th>77</th>\n",
       "      <td>property_type_Dorm</td>\n",
       "      <td>-36.312534</td>\n",
       "      <td>36.312534</td>\n",
       "    </tr>\n",
       "    <tr>\n",
       "      <th>85</th>\n",
       "      <td>room_type_Private room</td>\n",
       "      <td>-36.260990</td>\n",
       "      <td>36.260990</td>\n",
       "    </tr>\n",
       "    <tr>\n",
       "      <th>16</th>\n",
       "      <td>\"Wireless Internet\"</td>\n",
       "      <td>35.356470</td>\n",
       "      <td>35.356470</td>\n",
       "    </tr>\n",
       "    <tr>\n",
       "      <th>79</th>\n",
       "      <td>property_type_Loft</td>\n",
       "      <td>34.216056</td>\n",
       "      <td>34.216056</td>\n",
       "    </tr>\n",
       "    <tr>\n",
       "      <th>83</th>\n",
       "      <td>property_type_Treehouse</td>\n",
       "      <td>30.796264</td>\n",
       "      <td>30.796264</td>\n",
       "    </tr>\n",
       "    <tr>\n",
       "      <th>1</th>\n",
       "      <td>bedrooms</td>\n",
       "      <td>28.491348</td>\n",
       "      <td>28.491348</td>\n",
       "    </tr>\n",
       "    <tr>\n",
       "      <th>21</th>\n",
       "      <td>Doorman</td>\n",
       "      <td>28.031550</td>\n",
       "      <td>28.031550</td>\n",
       "    </tr>\n",
       "    <tr>\n",
       "      <th>58</th>\n",
       "      <td>neighbourhood_group_cleansed_Delridge</td>\n",
       "      <td>-26.580977</td>\n",
       "      <td>26.580977</td>\n",
       "    </tr>\n",
       "    <tr>\n",
       "      <th>59</th>\n",
       "      <td>neighbourhood_group_cleansed_Downtown</td>\n",
       "      <td>26.098527</td>\n",
       "      <td>26.098527</td>\n",
       "    </tr>\n",
       "    <tr>\n",
       "      <th>66</th>\n",
       "      <td>neighbourhood_group_cleansed_Rainier Valley</td>\n",
       "      <td>-25.719444</td>\n",
       "      <td>25.719444</td>\n",
       "    </tr>\n",
       "  </tbody>\n",
       "</table>\n",
       "</div>"
      ],
      "text/plain": [
       "                                        est_int       coefs   abs_coefs\n",
       "71                           property_type_Boat  173.995502  173.995502\n",
       "3                                      latitude  -76.983483   76.983483\n",
       "86                        room_type_Shared room  -70.314136   70.314136\n",
       "74                      property_type_Camper/RV   65.863014   65.863014\n",
       "41                                     Internet  -39.714560   39.714560\n",
       "77                           property_type_Dorm  -36.312534   36.312534\n",
       "85                       room_type_Private room  -36.260990   36.260990\n",
       "16                          \"Wireless Internet\"   35.356470   35.356470\n",
       "79                           property_type_Loft   34.216056   34.216056\n",
       "83                      property_type_Treehouse   30.796264   30.796264\n",
       "1                                      bedrooms   28.491348   28.491348\n",
       "21                                      Doorman   28.031550   28.031550\n",
       "58        neighbourhood_group_cleansed_Delridge  -26.580977   26.580977\n",
       "59        neighbourhood_group_cleansed_Downtown   26.098527   26.098527\n",
       "66  neighbourhood_group_cleansed_Rainier Valley  -25.719444   25.719444"
      ]
     },
     "execution_count": 59,
     "metadata": {},
     "output_type": "execute_result"
    }
   ],
   "source": [
    "coef_df.head(15)"
   ]
  },
  {
   "cell_type": "markdown",
   "metadata": {},
   "source": [
    "In order to increase r-squared value I will use SelectKBest.\n",
    "Below I write a function that tests different \"k\" numbers and compare r-squared for each k value."
   ]
  },
  {
   "cell_type": "code",
   "execution_count": 60,
   "metadata": {},
   "outputs": [],
   "source": [
    "def find_optimal_number_of_selectors(X, y, k_samples, plot=True):\n",
    "    '''\n",
    "    INPUT:\n",
    "    X dataframe that contains  features.\n",
    "    y dataframe that contains  variable to be predicted.\n",
    "    k_samples is a list of k values that will be tested.\n",
    "    \n",
    "    OUTPUT:\n",
    "    A dictionary that contains values of tested k-values as keys and r-squared values for each key.\n",
    "    The k-value that has the highest r-squared.\n",
    "\n",
    "    '''   \n",
    "    result_r_squareds = []\n",
    "    results = {}\n",
    "    for kes in k_samples:\n",
    "        selector = SelectKBest(score_func=f_regression, k=kes)\n",
    "        selector.fit_transform(X, y)\n",
    "        selected_cols = selector.get_support(indices=True)\n",
    "        features_new_X = X.iloc[:,selected_cols]\n",
    "        \n",
    "        X_train, X_test, y_train, y_test = train_test_split(features_new_X, y, test_size = 0.2, random_state=42)\n",
    "        lm_model = LinearRegression(normalize=True)\n",
    "        lm_model.fit(X_train, y_train)\n",
    "        y_test_preds = lm_model.predict(X_test)\n",
    "        result_r_squareds.append(r2_score(y_test, y_test_preds))\n",
    "        results[str(kes)] = r2_score(y_test, y_test_preds)\n",
    "    \n",
    "    if plot:\n",
    "        plt.plot(k_samples, result_r_squareds, label=\"r-squared\", alpha=0.5)\n",
    "        plt.xlabel(\"Different k_values\")\n",
    "        plt.ylabel(\"R_Squared_Values\")\n",
    "        plt.legend(loc=1)\n",
    "        plt.show()\n",
    "    \n",
    "    best_k = max(results, key=results.get)\n",
    "    \n",
    "    return results, best_k"
   ]
  },
  {
   "cell_type": "code",
   "execution_count": 61,
   "metadata": {},
   "outputs": [
    {
     "data": {
      "image/png": "[encoded data removed]",
      "text/plain": [
       "<Figure size 432x288 with 1 Axes>"
      ]
     },
     "metadata": {},
     "output_type": "display_data"
    },
    {
     "name": "stdout",
     "output_type": "stream",
     "text": [
      "{'10': 0.5610719934185295, '11': 0.5613631161773542, '12': 0.5618706404225703, '13': 0.5627192753466563, '14': 0.5798179780206143, '15': 0.5798260185879054, '16': 0.5859423320366866, '17': 0.5851382220911276, '18': 0.5830889041071928, '19': 0.583108720671921, '20': 0.5830826716960481, '21': 0.5831107940544074, '22': 0.5963593970815535, '23': 0.597254245569952, '24': 0.5968826231621435, '25': 0.5968069326103846, '26': 0.5968841784629721, '27': 0.5968631459356524, '28': 0.6003294350498094, '29': 0.6017226468717223, '30': 0.602318975630783, '31': 0.6024150140594315, '32': 0.6069779362311487, '33': 0.6107747907289507, '34': 0.61037428960775, '35': 0.6114487579913673, '36': 0.6114166183813403, '37': 0.6137229730801959, '38': 0.613592907659579, '39': 0.6124991835786586, '40': 0.6104062820955698, '41': 0.6130624963208636, '42': 0.6141644667037677, '43': 0.6140255891359947, '44': 0.6134345497904742, '45': 0.6149222913789415, '46': 0.6148767047130205, '47': 0.6151736281808575, '48': 0.6153163866263702, '49': 0.6149379577967956, '50': 0.613894950522426, '51': 0.6155491221759619, '52': 0.615457183435741, '53': 0.61597289394807, '54': 0.6162167124910252, '55': 0.6163153998458402, '56': 0.6160676433755885, '57': 0.6158794008610556, '58': 0.6150161149980227, '59': 0.6167866342904917, '60': 0.6166853753981936, '61': 0.617494162457857, '62': 0.6175688716923026, '63': 0.6173031048305008, '64': 0.617303649124302, '65': 0.6171068862901218, '66': 0.6170290688953428, '67': 0.6168560089604338, '68': 0.6175537618580702, '69': 0.6185535961661505, '70': 0.621369465336744, '71': 0.6214630816700195, '72': 0.6212938632921605, '73': 0.6219760859625718, '74': 0.62226111254784, '75': 0.6228117809967287, '76': 0.6217649095148523, '77': 0.6225653379657368, '78': 0.6229446975590579, '79': 0.6244004059671664, '80': 0.623416476294724, '81': 0.6225908317222981, '82': 0.6223661232035163, '83': 0.6224016110404302, '84': 0.6217392890663451, '85': 0.6218608658012568, '86': 0.6219868314150383, '87': 0.6218275094382486, '88': 0.6218303611577614, '89': 0.6218152530928254, '90': 0.6187747737990729, '91': 0.6184631696089102, '92': 0.6183022571695842, '93': 0.6183293979771576}\n",
      "79\n",
      "0.6244004059671664\n"
     ]
    }
   ],
   "source": [
    "k_samples = range(10, len(X.columns))\n",
    "emre_results, emre_best_k = find_optimal_number_of_selectors(X, y, k_samples)\n",
    "print(emre_results)\n",
    "print(emre_best_k)\n",
    "print(emre_results[emre_best_k])"
   ]
  },
  {
   "cell_type": "markdown",
   "metadata": {},
   "source": [
    "The highest r-squared value is achieved with 79 features and the r-squared value is 0,6244"
   ]
  },
  {
   "cell_type": "markdown",
   "metadata": {},
   "source": [
    "#### Question-4\n",
    "\n",
    "In the dataset we have latitude and longitude that gives information about the location of the listing. I would like to investigate effect of listings' proximity to Seattle Downtown. Does it increase the price or decrease the price to be close to downtown. And how much does it effect the price? This is my final question to answer."
   ]
  },
  {
   "cell_type": "markdown",
   "metadata": {},
   "source": [
    "Below I write a function that calculate the distance from downtown. According to Google Maps the coordinates of Seattle downtown are [47.605151, -122.334379] This is the coordinate that I will calculate the distance of every listing."
   ]
  },
  {
   "cell_type": "code",
   "execution_count": 62,
   "metadata": {},
   "outputs": [],
   "source": [
    "def distance_from_downtown(lat, lon, downtown=[47.605151, -122.334379]):\n",
    "    '''\n",
    "    INPUT:\n",
    "    lat is latitude of point that I will calculate the distance.\n",
    "    lon is longitude of point that I will calculate the distance.\n",
    "    downtown is coordinate of Seattle Downtown according to Google Maps. Downtown variable can be different, if the\n",
    "    distance is expected to be calculated from a different point.\n",
    "    \n",
    "    OUTPUT:\n",
    "    Distance between the point and the downtown.\n",
    "    '''   \n",
    "    R = 6373.0\n",
    "    lat1 = math.radians(downtown[0])\n",
    "    lon1 = math.radians(downtown[1])\n",
    "    lat2 = math.radians(lat)\n",
    "    lon2 = math.radians(lon)\n",
    "    dlon = lon2 - lon1\n",
    "    dlat = lat2 - lat1\n",
    "    a = math.sin(dlat / 2)**2 + math.cos(lat1) * math.cos(lat2) * math.sin(dlon / 2)**2\n",
    "    c = 2 * math.atan2(math.sqrt(a), math.sqrt(1 - a))\n",
    "    distance = R * c\n",
    "    return distance"
   ]
  },
  {
   "cell_type": "code",
   "execution_count": 63,
   "metadata": {},
   "outputs": [],
   "source": [
    "for i in range(len(df_lis_ml)):\n",
    "    df_lis_ml.loc[ i , 'distance_from_downtown'] = distance_from_downtown(df_lis_ml.loc[ i ,'latitude'] , df_lis_ml.loc[ i ,'longitude'])"
   ]
  },
  {
   "cell_type": "code",
   "execution_count": 64,
   "metadata": {},
   "outputs": [],
   "source": [
    "df_lis_ml.drop(columns=['latitude', 'longitude'], inplace=True)"
   ]
  },
  {
   "cell_type": "markdown",
   "metadata": {},
   "source": [
    "Lets make another regression model with distance from downtown variable."
   ]
  },
  {
   "cell_type": "code",
   "execution_count": 65,
   "metadata": {},
   "outputs": [],
   "source": [
    "y = df_lis_ml['price']\n",
    "X = df_lis_ml.drop(columns='price')"
   ]
  },
  {
   "cell_type": "code",
   "execution_count": 66,
   "metadata": {},
   "outputs": [],
   "source": [
    "X_train, X_test, y_train, y_test = train_test_split(X, y, test_size = 0.2, random_state=42)"
   ]
  },
  {
   "cell_type": "code",
   "execution_count": 67,
   "metadata": {
    "scrolled": true
   },
   "outputs": [
    {
     "name": "stdout",
     "output_type": "stream",
     "text": [
      "0.6234116665875441\n"
     ]
    }
   ],
   "source": [
    "lm_model = LinearRegression(normalize=True)\n",
    "lm_model.fit(X_train, y_train)\n",
    "y_test_preds = lm_model.predict(X_test)\n",
    "test_score = r2_score(y_test, y_test_preds)\n",
    "print(test_score)"
   ]
  },
  {
   "cell_type": "code",
   "execution_count": 68,
   "metadata": {},
   "outputs": [],
   "source": [
    "coef_df = coef_weights(lm_model.coef_, X_train)"
   ]
  },
  {
   "cell_type": "code",
   "execution_count": 69,
   "metadata": {},
   "outputs": [
    {
     "data": {
      "text/html": [
       "<div>\n",
       "<style scoped>\n",
       "    .dataframe tbody tr th:only-of-type {\n",
       "        vertical-align: middle;\n",
       "    }\n",
       "\n",
       "    .dataframe tbody tr th {\n",
       "        vertical-align: top;\n",
       "    }\n",
       "\n",
       "    .dataframe thead th {\n",
       "        text-align: right;\n",
       "    }\n",
       "</style>\n",
       "<table border=\"1\" class=\"dataframe\">\n",
       "  <thead>\n",
       "    <tr style=\"text-align: right;\">\n",
       "      <th></th>\n",
       "      <th>est_int</th>\n",
       "      <th>coefs</th>\n",
       "      <th>abs_coefs</th>\n",
       "    </tr>\n",
       "  </thead>\n",
       "  <tbody>\n",
       "    <tr>\n",
       "      <th>92</th>\n",
       "      <td>distance_from_downtown</td>\n",
       "      <td>-2.97923</td>\n",
       "      <td>2.97923</td>\n",
       "    </tr>\n",
       "  </tbody>\n",
       "</table>\n",
       "</div>"
      ],
      "text/plain": [
       "                   est_int    coefs  abs_coefs\n",
       "92  distance_from_downtown -2.97923    2.97923"
      ]
     },
     "execution_count": 69,
     "metadata": {},
     "output_type": "execute_result"
    }
   ],
   "source": [
    "coef_df[coef_df['est_int'] == 'distance_from_downtown']"
   ]
  },
  {
   "cell_type": "markdown",
   "metadata": {
    "scrolled": true
   },
   "source": [
    "As can be seen above, the 'distance_from_downtown' feature has a negative effect on price. As the distance from downtown increases, the price of listing decreases. For one kilometer additional distance from downtown, the price of listing decrease around 3 USD. "
   ]
  }
 ],
 "metadata": {
  "kernelspec": {
   "display_name": "Python 3",
   "language": "python",
   "name": "python3"
  },
  "language_info": {
   "codemirror_mode": {
    "name": "ipython",
    "version": 3
   },
   "file_extension": ".py",
   "mimetype": "text/x-python",
   "name": "python",
   "nbconvert_exporter": "python",
   "pygments_lexer": "ipython3",
   "version": "3.7.4"
  }
 },
 "nbformat": 4,
 "nbformat_minor": 2
}
